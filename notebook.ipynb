{
 "cells": [
  {
   "cell_type": "markdown",
   "id": "3ecfca33",
   "metadata": {},
   "source": [
    "### **Loading Step**"
   ]
  },
  {
   "cell_type": "code",
   "execution_count": 1,
   "id": "1fcd5156",
   "metadata": {},
   "outputs": [],
   "source": [
    "import os\n",
    "import getpass\n",
    "from pathlib import Path\n",
    "import warnings\n",
    "\n",
    "warnings.filterwarnings(\"ignore\")\n",
    "\n",
    "from docling.document_converter import DocumentConverter"
   ]
  },
  {
   "cell_type": "code",
   "execution_count": 2,
   "id": "8bc34bfc",
   "metadata": {},
   "outputs": [],
   "source": [
    "source = r\"code_du_travail_senegal.pdf\""
   ]
  },
  {
   "cell_type": "code",
   "execution_count": 3,
   "id": "62d05aa3",
   "metadata": {},
   "outputs": [],
   "source": [
    "converter = DocumentConverter()\n",
    "result = converter.convert(source)"
   ]
  },
  {
   "cell_type": "code",
   "execution_count": 8,
   "id": "dae7694a",
   "metadata": {},
   "outputs": [
    {
     "data": {
      "text/plain": [
       "str"
      ]
     },
     "execution_count": 8,
     "metadata": {},
     "output_type": "execute_result"
    }
   ],
   "source": [
    "document = result.document.export_to_markdown()\n",
    "type(document)"
   ]
  },
  {
   "cell_type": "code",
   "execution_count": 10,
   "id": "5c40c3c4",
   "metadata": {},
   "outputs": [],
   "source": [
    "# Markdown splitting\n",
    "from langchain_text_splitters import MarkdownHeaderTextSplitter\n",
    "\n",
    "document = result.document.export_to_markdown()\n",
    "headers_to_split_on = [\n",
    "    (\"#\", \"Header 1\"), (\"##\", \"Header 2\"),\n",
    "    (\"###\", \"Header 3\"), (\"####\", \"Header 4\"),\n",
    "    (\"#####\", \"Header 5\"), (\"######\", \"Header 6\"),\n",
    "]\n",
    "\n",
    "markdown_splitter = MarkdownHeaderTextSplitter(headers_to_split_on, \n",
    "                                               return_each_line=True)\n",
    "\n",
    "md_header_splits = markdown_splitter.split_text(document)"
   ]
  },
  {
   "cell_type": "code",
   "execution_count": 11,
   "id": "6c9ec188",
   "metadata": {},
   "outputs": [
    {
     "data": {
      "text/plain": [
       "847"
      ]
     },
     "execution_count": 11,
     "metadata": {},
     "output_type": "execute_result"
    }
   ],
   "source": [
    "len(md_header_splits)"
   ]
  },
  {
   "cell_type": "code",
   "execution_count": 12,
   "id": "3e13911a",
   "metadata": {},
   "outputs": [],
   "source": [
    "from langchain_text_splitters import RecursiveCharacterTextSplitter\n",
    "text_splitter = RecursiveCharacterTextSplitter(\n",
    "    chunk_size=250,\n",
    "    chunk_overlap=30\n",
    ")\n",
    "\n",
    "splits = text_splitter.split_documents(md_header_splits)"
   ]
  },
  {
   "cell_type": "code",
   "execution_count": 13,
   "id": "a62222a8",
   "metadata": {},
   "outputs": [
    {
     "data": {
      "text/plain": [
       "1272"
      ]
     },
     "execution_count": 13,
     "metadata": {},
     "output_type": "execute_result"
    }
   ],
   "source": [
    "len(splits)"
   ]
  },
  {
   "cell_type": "code",
   "execution_count": 17,
   "id": "12502178",
   "metadata": {},
   "outputs": [],
   "source": [
    "# Initialize the embedding model from Hugging Face\n",
    "from langchain_huggingface import HuggingFaceEmbeddings\n",
    "embedding_model = HuggingFaceEmbeddings(model_name=\"intfloat/multilingual-e5-base\")"
   ]
  },
  {
   "cell_type": "code",
   "execution_count": 18,
   "id": "957e3ebc",
   "metadata": {},
   "outputs": [],
   "source": [
    "from langchain_community.vectorstores import Chroma\n",
    "\n",
    "# Create the vector store from the chunks and embedding model\n",
    "vectorstore = Chroma.from_documents(documents=splits, embedding=embedding_model)"
   ]
  },
  {
   "cell_type": "code",
   "execution_count": 19,
   "id": "69c7d884",
   "metadata": {},
   "outputs": [],
   "source": [
    "retriever = vectorstore.as_retriever(k=4)"
   ]
  },
  {
   "cell_type": "code",
   "execution_count": 20,
   "id": "e1d870fc",
   "metadata": {},
   "outputs": [],
   "source": [
    "from langchain.prompts import PromptTemplate\n",
    "\n",
    "# Définir un prompt template pour le LLM\n",
    "prompt = PromptTemplate(\n",
    "    template=\"\"\"You are an assistant for question-answering tasks.\n",
    "    Use the following documents to answer the question.\n",
    "    If you don't know the answer, just say that you don't know.\n",
    "    Provide your answers in French.\n",
    "    Use three sentences maximum and keep the answer concise:\n",
    "    Question: {question}\n",
    "    Documents: {documents}\n",
    "    Answer:\n",
    "    \"\"\",\n",
    "    input_variables=[\"question\", \"documents\"],\n",
    ")"
   ]
  },
  {
   "cell_type": "code",
   "execution_count": 21,
   "id": "f6451b28",
   "metadata": {},
   "outputs": [],
   "source": [
    "# Avec Gemini\n",
    "import getpass\n",
    "import os\n",
    "\n",
    "if not os.environ.get(\"GOOGLE_API_KEY\"):\n",
    "  os.environ[\"GOOGLE_API_KEY\"] = getpass.getpass(\"Entrez votre clé API Google:\")\n",
    "\n",
    "from langchain.chat_models import init_chat_model\n",
    "\n",
    "llm_model = init_chat_model(\"gemini-2.5-flash\", model_provider=\"google_genai\")"
   ]
  },
  {
   "cell_type": "code",
   "execution_count": 22,
   "id": "e90dd086",
   "metadata": {},
   "outputs": [],
   "source": [
    "# Créer une chaine combinant le modele d'invite et LLM\n",
    "from langchain_core.output_parsers import StrOutputParser\n",
    "\n",
    "rag_chain = prompt | llm_model | StrOutputParser()"
   ]
  },
  {
   "cell_type": "code",
   "execution_count": 23,
   "id": "1fea4a8d",
   "metadata": {},
   "outputs": [],
   "source": [
    "# Définir la classe d'application RAG\n",
    "class RAGApplication:\n",
    "    def __init__(self, retriever, rag_chain):\n",
    "        self.retriever = retriever\n",
    "        self.rag_chain = rag_chain\n",
    "    def run(self, question):\n",
    "      # Récupérer les documents pertinents\n",
    "        documents = self.retriever.invoke(question)\n",
    "      # Extraire le contenu des documents récupérés\n",
    "        doc_texts = \"\\\\n\".join([doc.page_content for doc in documents])\n",
    "      # Obtenir la réponse à partir du modèle de langage\n",
    "        answer = self.rag_chain.invoke({\"question\": question, \"documents\": doc_texts})\n",
    "        return answer"
   ]
  },
  {
   "cell_type": "code",
   "execution_count": 27,
   "id": "23c15515",
   "metadata": {},
   "outputs": [
    {
     "name": "stdout",
     "output_type": "stream",
     "text": [
      "Question: Qu'est ce qu'une banane?\n",
      "Answer: Je ne dispose pas des informations nécessaires pour répondre à cette question dans les documents fournis. Les documents ne contiennent aucune information sur ce qu'est une banane.\n"
     ]
    }
   ],
   "source": [
    "# Initialiser l'application de RAG\n",
    "rag_application = RAGApplication(retriever, rag_chain)\n",
    "# Example d'usage\n",
    "question = \"Qu'est ce qu'une banane?\"\n",
    "answer = rag_application.run(question)\n",
    "print(\"Question:\", question)\n",
    "print(\"Answer:\", answer)"
   ]
  },
  {
   "cell_type": "code",
   "execution_count": 28,
   "id": "f0b5e637",
   "metadata": {},
   "outputs": [
    {
     "name": "stdout",
     "output_type": "stream",
     "text": [
      "Question: Qu'est ce que le code du travail du senegal dit?\n",
      "Answer: Le Code du travail du Sénégal stipule que tout contrat de travail conclu pour être exécuté sur son territoire est soumis à ses dispositions. Cela s'applique quels que soient le lieu de la conclusion du contrat et la résidence de l'une ou l'autre partie.\n"
     ]
    }
   ],
   "source": [
    "question = \"Qu'est ce que le code du travail du senegal dit?\"\n",
    "answer = rag_application.run(question)\n",
    "print(\"Question:\", question)\n",
    "print(\"Answer:\", answer)"
   ]
  },
  {
   "cell_type": "code",
   "execution_count": 29,
   "id": "9ff18a21",
   "metadata": {},
   "outputs": [
    {
     "name": "stdout",
     "output_type": "stream",
     "text": [
      "Question: Quelle est le SMIG au Sénégal?\n",
      "Answer: Je ne dispose pas de l'information sur le montant exact du SMIG au Sénégal dans les documents fournis. Les documents mentionnent le \"salaire minimum interprofessionnel garanti\" et des textes législatifs y afférents, mais pas sa valeur actuelle.\n"
     ]
    }
   ],
   "source": [
    "question = \"Quelle est le SMIG au Sénégal?\"\n",
    "answer = rag_application.run(question)\n",
    "print(\"Question:\", question)\n",
    "print(\"Answer:\", answer)"
   ]
  },
  {
   "cell_type": "code",
   "execution_count": 30,
   "metadata": {},
   "outputs": [
    {
     "name": "stdout",
     "output_type": "stream",
     "text": [
      "Question: Comment le Code du travail traite-t-il des contrats à durée déterminée (CDD) et indéterminée (CDI) ?\n",
      "Answer: Le Code du travail considère le contrat à durée indéterminée (CDI) comme la forme par défaut si les conditions spécifiques d'autres types de contrats ne sont pas remplies. Le contrat à durée déterminée (CDD) doit obligatoirement être constaté par écrit, sinon il est présumé conclu pour une durée indéterminée. De plus, le CDD ne peut avoir pour objet de pourvoir durablement un emploi lié à l'activité normale et permanente de l'entreprise.\n"
     ]
    }
   ],
   "source": [
    "question = \"Comment le Code du travail traite-t-il des contrats à durée déterminée (CDD) et indéterminée (CDI) ?\"\n",
    "answer = rag_application.run(question)\n",
    "print(\"Question:\", question)\n",
    "print(\"Answer:\", answer)"
   ]
  },
  {
   "cell_type": "code",
   "execution_count": 33,
   "id": "cee3a4d6",
   "metadata": {},
   "outputs": [
    {
     "name": "stdout",
     "output_type": "stream",
     "text": [
      "Question: Que dit l'Article L.5.\n",
      "Answer: Je ne dispose pas d'informations sur l'article L.5 dans les documents fournis.\n"
     ]
    }
   ],
   "source": [
    "question = \"Que dit l'Article L.5.\"\n",
    "answer = rag_application.run(question)\n",
    "print(\"Question:\", question)\n",
    "print(\"Answer:\", answer)"
   ]
  },
  {
   "cell_type": "code",
   "execution_count": 37,
   "id": "6f864f34",
   "metadata": {},
   "outputs": [
    {
     "name": "stdout",
     "output_type": "stream",
     "text": [
      "Question: Quelles sont les acticles qui abordent les contrats à durée déterminée au Sénégal?\n",
      "Answer: Les articles L.57 à L.59 sont applicables aux contrats à durée déterminée.\n"
     ]
    }
   ],
   "source": [
    "question = \"Quelles sont les acticles qui abordent les contrats à durée déterminée au Sénégal?\"\n",
    "answer = rag_application.run(question)\n",
    "print(\"Question:\", question)\n",
    "print(\"Answer:\", answer)"
   ]
  }
 ],
 "metadata": {
  "kernelspec": {
   "display_name": "venv",
   "language": "python",
   "name": "python3"
  },
  "language_info": {
   "codemirror_mode": {
    "name": "ipython",
    "version": 3
   },
   "file_extension": ".py",
   "mimetype": "text/x-python",
   "name": "python",
   "nbconvert_exporter": "python",
   "pygments_lexer": "ipython3",
   "version": "3.13.3"
  }
 },
 "nbformat": 4,
 "nbformat_minor": 5
}
